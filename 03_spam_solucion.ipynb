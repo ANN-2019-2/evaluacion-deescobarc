{
  "nbformat": 4,
  "nbformat_minor": 0,
  "metadata": {
    "colab": {
      "name": "03-spam_solucion.ipynb",
      "provenance": [],
      "collapsed_sections": []
    },
    "kernelspec": {
      "name": "python3",
      "display_name": "Python 3"
    }
  },
  "cells": [
    {
      "cell_type": "code",
      "metadata": {
        "id": "QgvZhAE4121i",
        "colab_type": "code",
        "outputId": "d9a9deee-a5a6-4b75-c690-9f3ce7fd0af4",
        "colab": {
          "base_uri": "https://localhost:8080/",
          "height": 119
        }
      },
      "source": [
        "! git clone https://github.com/ANN-2019-2/evaluacion-deescobarc.git"
      ],
      "execution_count": 0,
      "outputs": [
        {
          "output_type": "stream",
          "text": [
            "Cloning into 'evaluacion-deescobarc'...\n",
            "remote: Enumerating objects: 50, done.\u001b[K\n",
            "remote: Counting objects: 100% (50/50), done.\u001b[K\n",
            "remote: Compressing objects: 100% (50/50), done.\u001b[K\n",
            "remote: Total 50 (delta 7), reused 0 (delta 0), pack-reused 0\u001b[K\n",
            "Unpacking objects: 100% (50/50), done.\n"
          ],
          "name": "stdout"
        }
      ]
    },
    {
      "cell_type": "markdown",
      "metadata": {
        "id": "--KBKVoF2Bdl",
        "colab_type": "text"
      },
      "source": [
        "#Librerías a Utilizar"
      ]
    },
    {
      "cell_type": "code",
      "metadata": {
        "id": "OcGD8SWg0VYy",
        "colab_type": "code",
        "outputId": "b34fce05-76c5-49c1-f655-d4bfa6c77ab1",
        "colab": {
          "base_uri": "https://localhost:8080/",
          "height": 51
        }
      },
      "source": [
        "import pandas as pd\n",
        "import numpy as np\n",
        "import seaborn as sns\n",
        "import matplotlib.pyplot as plt\n",
        "%matplotlib inline\n",
        "%load_ext rpy2.ipython\n",
        "\n",
        "from nltk.stem.porter import PorterStemmer\n",
        "\n",
        "from sklearn.linear_model import LogisticRegression\n",
        "from sklearn.metrics import confusion_matrix, plot_confusion_matrix\n",
        "from sklearn.model_selection import train_test_split, cross_val_score, GridSearchCV\n",
        "\n",
        "import tensorflow as tf\n",
        "from tensorflow import keras\n",
        "\n",
        "\n",
        "from sklearn.neural_network import MLPClassifier\n",
        "\n"
      ],
      "execution_count": 69,
      "outputs": [
        {
          "output_type": "stream",
          "text": [
            "The rpy2.ipython extension is already loaded. To reload it, use:\n",
            "  %reload_ext rpy2.ipython\n"
          ],
          "name": "stdout"
        }
      ]
    },
    {
      "cell_type": "markdown",
      "metadata": {
        "id": "UBxoQcs32KBF",
        "colab_type": "text"
      },
      "source": [
        "#Pruebas GPU"
      ]
    },
    {
      "cell_type": "code",
      "metadata": {
        "id": "v8pXWIv62LXu",
        "colab_type": "code",
        "colab": {}
      },
      "source": [
        "%tensorflow_version 2.x\n",
        "import tensorflow as tf\n",
        "device_name = tf.test.gpu_device_name()\n",
        "if device_name != '/device:GPU:0':\n",
        "  raise SystemError('GPU device not found')\n",
        "print('Found GPU at: {}'.format(device_name))"
      ],
      "execution_count": 0,
      "outputs": []
    },
    {
      "cell_type": "markdown",
      "metadata": {
        "id": "uGpt06ZE2dhw",
        "colab_type": "text"
      },
      "source": [
        "#Leer los datos"
      ]
    },
    {
      "cell_type": "code",
      "metadata": {
        "id": "9DA2HGd12fV0",
        "colab_type": "code",
        "colab": {
          "base_uri": "https://localhost:8080/",
          "height": 204
        },
        "outputId": "c4c8b696-a64e-4c4a-98d7-1932e000615b"
      },
      "source": [
        "df = pd.read_csv(\n",
        "    \"https://raw.githubusercontent.com/jdvelasq/datalabs/master/datasets/sms-spam.csv\",\n",
        "    sep = ',',\n",
        "    thousands = None,\n",
        "    decimal = '.',\n",
        "    encoding='latin-1')\n",
        "\n",
        "df.head()"
      ],
      "execution_count": 4,
      "outputs": [
        {
          "output_type": "execute_result",
          "data": {
            "text/html": [
              "<div>\n",
              "<style scoped>\n",
              "    .dataframe tbody tr th:only-of-type {\n",
              "        vertical-align: middle;\n",
              "    }\n",
              "\n",
              "    .dataframe tbody tr th {\n",
              "        vertical-align: top;\n",
              "    }\n",
              "\n",
              "    .dataframe thead th {\n",
              "        text-align: right;\n",
              "    }\n",
              "</style>\n",
              "<table border=\"1\" class=\"dataframe\">\n",
              "  <thead>\n",
              "    <tr style=\"text-align: right;\">\n",
              "      <th></th>\n",
              "      <th>type</th>\n",
              "      <th>text</th>\n",
              "    </tr>\n",
              "  </thead>\n",
              "  <tbody>\n",
              "    <tr>\n",
              "      <th>0</th>\n",
              "      <td>ham</td>\n",
              "      <td>Go until jurong point, crazy.. Available only ...</td>\n",
              "    </tr>\n",
              "    <tr>\n",
              "      <th>1</th>\n",
              "      <td>ham</td>\n",
              "      <td>Ok lar... Joking wif u oni...</td>\n",
              "    </tr>\n",
              "    <tr>\n",
              "      <th>2</th>\n",
              "      <td>spam</td>\n",
              "      <td>Free entry in 2 a wkly comp to win FA Cup fina...</td>\n",
              "    </tr>\n",
              "    <tr>\n",
              "      <th>3</th>\n",
              "      <td>ham</td>\n",
              "      <td>U dun say so early hor... U c already then say...</td>\n",
              "    </tr>\n",
              "    <tr>\n",
              "      <th>4</th>\n",
              "      <td>ham</td>\n",
              "      <td>Nah I don't think he goes to usf, he lives aro...</td>\n",
              "    </tr>\n",
              "  </tbody>\n",
              "</table>\n",
              "</div>"
            ],
            "text/plain": [
              "   type                                               text\n",
              "0   ham  Go until jurong point, crazy.. Available only ...\n",
              "1   ham                      Ok lar... Joking wif u oni...\n",
              "2  spam  Free entry in 2 a wkly comp to win FA Cup fina...\n",
              "3   ham  U dun say so early hor... U c already then say...\n",
              "4   ham  Nah I don't think he goes to usf, he lives aro..."
            ]
          },
          "metadata": {
            "tags": []
          },
          "execution_count": 4
        }
      ]
    },
    {
      "cell_type": "markdown",
      "metadata": {
        "id": "xCQvxJkz6281",
        "colab_type": "text"
      },
      "source": [
        "##Verificación de la lectura"
      ]
    },
    {
      "cell_type": "code",
      "metadata": {
        "id": "B4H4NRh469Sw",
        "colab_type": "code",
        "colab": {
          "base_uri": "https://localhost:8080/",
          "height": 173
        },
        "outputId": "563a9f76-8643-4ec4-9364-820618704972"
      },
      "source": [
        "##\n",
        "## Verifica la lectura de los datos\n",
        "##\n",
        "df.describe()"
      ],
      "execution_count": 5,
      "outputs": [
        {
          "output_type": "execute_result",
          "data": {
            "text/html": [
              "<div>\n",
              "<style scoped>\n",
              "    .dataframe tbody tr th:only-of-type {\n",
              "        vertical-align: middle;\n",
              "    }\n",
              "\n",
              "    .dataframe tbody tr th {\n",
              "        vertical-align: top;\n",
              "    }\n",
              "\n",
              "    .dataframe thead th {\n",
              "        text-align: right;\n",
              "    }\n",
              "</style>\n",
              "<table border=\"1\" class=\"dataframe\">\n",
              "  <thead>\n",
              "    <tr style=\"text-align: right;\">\n",
              "      <th></th>\n",
              "      <th>type</th>\n",
              "      <th>text</th>\n",
              "    </tr>\n",
              "  </thead>\n",
              "  <tbody>\n",
              "    <tr>\n",
              "      <th>count</th>\n",
              "      <td>5574</td>\n",
              "      <td>5574</td>\n",
              "    </tr>\n",
              "    <tr>\n",
              "      <th>unique</th>\n",
              "      <td>2</td>\n",
              "      <td>5160</td>\n",
              "    </tr>\n",
              "    <tr>\n",
              "      <th>top</th>\n",
              "      <td>ham</td>\n",
              "      <td>Sorry, I'll call later</td>\n",
              "    </tr>\n",
              "    <tr>\n",
              "      <th>freq</th>\n",
              "      <td>4827</td>\n",
              "      <td>30</td>\n",
              "    </tr>\n",
              "  </tbody>\n",
              "</table>\n",
              "</div>"
            ],
            "text/plain": [
              "        type                    text\n",
              "count   5574                    5574\n",
              "unique     2                    5160\n",
              "top      ham  Sorry, I'll call later\n",
              "freq    4827                      30"
            ]
          },
          "metadata": {
            "tags": []
          },
          "execution_count": 5
        }
      ]
    },
    {
      "cell_type": "markdown",
      "metadata": {
        "id": "KxnM6C6i7FLQ",
        "colab_type": "text"
      },
      "source": [
        "#Cantidad de mensajes por tipo"
      ]
    },
    {
      "cell_type": "code",
      "metadata": {
        "id": "tzjF1fLY7Iw4",
        "colab_type": "code",
        "colab": {
          "base_uri": "https://localhost:8080/",
          "height": 68
        },
        "outputId": "3fba2c0b-b7ed-4a75-90ce-cbb3366c5623"
      },
      "source": [
        "##\n",
        "## Se obtiene la cantidad de casos para\n",
        "## cada tipo de mensaje.\n",
        "##\n",
        "df.type.value_counts()"
      ],
      "execution_count": 6,
      "outputs": [
        {
          "output_type": "execute_result",
          "data": {
            "text/plain": [
              "ham     4827\n",
              "spam     747\n",
              "Name: type, dtype: int64"
            ]
          },
          "metadata": {
            "tags": []
          },
          "execution_count": 6
        }
      ]
    },
    {
      "cell_type": "code",
      "metadata": {
        "id": "8NRMwXso7N-5",
        "colab_type": "code",
        "colab": {
          "base_uri": "https://localhost:8080/",
          "height": 284
        },
        "outputId": "314379a5-0a3f-4685-f6f0-1418d60c5b2b"
      },
      "source": [
        "df.type.value_counts().plot.bar();"
      ],
      "execution_count": 7,
      "outputs": [
        {
          "output_type": "display_data",
          "data": {
            "image/png": "[encoded data removed]",
            "text/plain": [
              "<Figure size 432x288 with 1 Axes>"
            ]
          },
          "metadata": {
            "tags": []
          }
        }
      ]
    },
    {
      "cell_type": "markdown",
      "metadata": {
        "id": "-4TaxCnp7lUI",
        "colab_type": "text"
      },
      "source": [
        "#Stemmer"
      ]
    },
    {
      "cell_type": "code",
      "metadata": {
        "id": "lSihSkJN7n5w",
        "colab_type": "code",
        "colab": {
          "base_uri": "https://localhost:8080/",
          "height": 359
        },
        "outputId": "f69fc1c8-1e48-4b85-92a9-ec86c1a8b00f"
      },
      "source": [
        "stemmer = PorterStemmer()\n",
        "\n",
        "df['stemmed'] = df.text.apply(lambda x: ' '.join([stemmer.stem(w) for w in x.split() ]))\n",
        "\n",
        "df.head(10)"
      ],
      "execution_count": 9,
      "outputs": [
        {
          "output_type": "execute_result",
          "data": {
            "text/html": [
              "<div>\n",
              "<style scoped>\n",
              "    .dataframe tbody tr th:only-of-type {\n",
              "        vertical-align: middle;\n",
              "    }\n",
              "\n",
              "    .dataframe tbody tr th {\n",
              "        vertical-align: top;\n",
              "    }\n",
              "\n",
              "    .dataframe thead th {\n",
              "        text-align: right;\n",
              "    }\n",
              "</style>\n",
              "<table border=\"1\" class=\"dataframe\">\n",
              "  <thead>\n",
              "    <tr style=\"text-align: right;\">\n",
              "      <th></th>\n",
              "      <th>type</th>\n",
              "      <th>text</th>\n",
              "      <th>stemmed</th>\n",
              "    </tr>\n",
              "  </thead>\n",
              "  <tbody>\n",
              "    <tr>\n",
              "      <th>0</th>\n",
              "      <td>ham</td>\n",
              "      <td>Go until jurong point, crazy.. Available only ...</td>\n",
              "      <td>Go until jurong point, crazy.. avail onli in b...</td>\n",
              "    </tr>\n",
              "    <tr>\n",
              "      <th>1</th>\n",
              "      <td>ham</td>\n",
              "      <td>Ok lar... Joking wif u oni...</td>\n",
              "      <td>Ok lar... joke wif u oni...</td>\n",
              "    </tr>\n",
              "    <tr>\n",
              "      <th>2</th>\n",
              "      <td>spam</td>\n",
              "      <td>Free entry in 2 a wkly comp to win FA Cup fina...</td>\n",
              "      <td>free entri in 2 a wkli comp to win FA cup fina...</td>\n",
              "    </tr>\n",
              "    <tr>\n",
              "      <th>3</th>\n",
              "      <td>ham</td>\n",
              "      <td>U dun say so early hor... U c already then say...</td>\n",
              "      <td>U dun say so earli hor... U c alreadi then say...</td>\n",
              "    </tr>\n",
              "    <tr>\n",
              "      <th>4</th>\n",
              "      <td>ham</td>\n",
              "      <td>Nah I don't think he goes to usf, he lives aro...</td>\n",
              "      <td>nah I don't think he goe to usf, he live aroun...</td>\n",
              "    </tr>\n",
              "    <tr>\n",
              "      <th>5</th>\n",
              "      <td>spam</td>\n",
              "      <td>FreeMsg Hey there darling it's been 3 week's n...</td>\n",
              "      <td>freemsg hey there darl it' been 3 week' now an...</td>\n",
              "    </tr>\n",
              "    <tr>\n",
              "      <th>6</th>\n",
              "      <td>ham</td>\n",
              "      <td>Even my brother is not like to speak with me. ...</td>\n",
              "      <td>even my brother is not like to speak with me. ...</td>\n",
              "    </tr>\n",
              "    <tr>\n",
              "      <th>7</th>\n",
              "      <td>ham</td>\n",
              "      <td>As per your request 'Melle Melle (Oru Minnamin...</td>\n",
              "      <td>As per your request 'mell mell (oru minnaminun...</td>\n",
              "    </tr>\n",
              "    <tr>\n",
              "      <th>8</th>\n",
              "      <td>spam</td>\n",
              "      <td>WINNER!! As a valued network customer you have...</td>\n",
              "      <td>winner!! As a valu network custom you have bee...</td>\n",
              "    </tr>\n",
              "    <tr>\n",
              "      <th>9</th>\n",
              "      <td>spam</td>\n",
              "      <td>Had your mobile 11 months or more? U R entitle...</td>\n",
              "      <td>had your mobil 11 month or more? U R entitl to...</td>\n",
              "    </tr>\n",
              "  </tbody>\n",
              "</table>\n",
              "</div>"
            ],
            "text/plain": [
              "   type  ...                                            stemmed\n",
              "0   ham  ...  Go until jurong point, crazy.. avail onli in b...\n",
              "1   ham  ...                        Ok lar... joke wif u oni...\n",
              "2  spam  ...  free entri in 2 a wkli comp to win FA cup fina...\n",
              "3   ham  ...  U dun say so earli hor... U c alreadi then say...\n",
              "4   ham  ...  nah I don't think he goe to usf, he live aroun...\n",
              "5  spam  ...  freemsg hey there darl it' been 3 week' now an...\n",
              "6   ham  ...  even my brother is not like to speak with me. ...\n",
              "7   ham  ...  As per your request 'mell mell (oru minnaminun...\n",
              "8  spam  ...  winner!! As a valu network custom you have bee...\n",
              "9  spam  ...  had your mobil 11 month or more? U R entitl to...\n",
              "\n",
              "[10 rows x 3 columns]"
            ]
          },
          "metadata": {
            "tags": []
          },
          "execution_count": 9
        }
      ]
    },
    {
      "cell_type": "markdown",
      "metadata": {
        "id": "SVyC_BWT8WVU",
        "colab_type": "text"
      },
      "source": [
        "#Matriz de Términos del Documento (Bag of words)"
      ]
    },
    {
      "cell_type": "code",
      "metadata": {
        "id": "3kbF5iK18X3C",
        "colab_type": "code",
        "colab": {
          "base_uri": "https://localhost:8080/",
          "height": 34
        },
        "outputId": "0eef026f-38a7-4c55-e58a-75a4425e3c24"
      },
      "source": [
        "##\n",
        "## Matriz de términos del documento en Python\n",
        "##\n",
        "from sklearn.feature_extraction.text import CountVectorizer\n",
        "\n",
        "count_vect = CountVectorizer(\n",
        "    analyzer='word',        # a nivel de palabra\n",
        "    lowercase=True,         # convierte a minúsculas\n",
        "    stop_words='english',   # stop_words en inglés\n",
        "    binary=True,            # Los valores distintos de cero son fijados en 1\n",
        "    min_df=5                # ignora palabras con baja freq\n",
        ")\n",
        "\n",
        "\n",
        "##\n",
        "## Aplica la función al texto\n",
        "##\n",
        "dtm = count_vect.fit_transform(df.stemmed)\n",
        "\n",
        "##\n",
        "## Las filas contienen los mensajes\n",
        "## y las clomunas los términos\n",
        "##\n",
        "dtm.shape"
      ],
      "execution_count": 11,
      "outputs": [
        {
          "output_type": "execute_result",
          "data": {
            "text/plain": [
              "(5574, 1540)"
            ]
          },
          "metadata": {
            "tags": []
          },
          "execution_count": 11
        }
      ]
    },
    {
      "cell_type": "code",
      "metadata": {
        "id": "C1BxgJ5e8ueG",
        "colab_type": "code",
        "colab": {
          "base_uri": "https://localhost:8080/",
          "height": 34
        },
        "outputId": "4a10749f-aa56-4c31-a5f4-f86e84d1ae35"
      },
      "source": [
        "##\n",
        "## Palabras aprendidas de los mensajes de texto\n",
        "##\n",
        "vocabulary = count_vect.get_feature_names()\n",
        "len(vocabulary)"
      ],
      "execution_count": 12,
      "outputs": [
        {
          "output_type": "execute_result",
          "data": {
            "text/plain": [
              "1540"
            ]
          },
          "metadata": {
            "tags": []
          },
          "execution_count": 12
        }
      ]
    },
    {
      "cell_type": "code",
      "metadata": {
        "id": "XLb4jjwg8x7j",
        "colab_type": "code",
        "colab": {
          "base_uri": "https://localhost:8080/",
          "height": 187
        },
        "outputId": "73085f7d-98e4-478b-e911-cec436202cdd"
      },
      "source": [
        "##\n",
        "## Primeras palabras del vocabulario\n",
        "##\n",
        "vocabulary[0:10]"
      ],
      "execution_count": 13,
      "outputs": [
        {
          "output_type": "execute_result",
          "data": {
            "text/plain": [
              "['00',\n",
              " '000',\n",
              " '02',\n",
              " '03',\n",
              " '04',\n",
              " '06',\n",
              " '0800',\n",
              " '08000839402',\n",
              " '08000930705',\n",
              " '0870']"
            ]
          },
          "metadata": {
            "tags": []
          },
          "execution_count": 13
        }
      ]
    },
    {
      "cell_type": "code",
      "metadata": {
        "id": "AESCk0j084HY",
        "colab_type": "code",
        "colab": {
          "base_uri": "https://localhost:8080/",
          "height": 598
        },
        "outputId": "7bca6b09-7244-4065-d5f2-8ace8963179e"
      },
      "source": [
        "##\n",
        "## Recupera los mensajes de la dtm\n",
        "##\n",
        "def dtm2words(dtm, vocabulary, index):\n",
        "    as_list = dtm[index,:].toarray().tolist()\n",
        "    docs = []\n",
        "    for i in index:\n",
        "        k = [vocabulary[iword] for iword, ifreq in enumerate(as_list[i]) if ifreq > 0]\n",
        "        docs += [k]\n",
        "    return docs\n",
        "\n",
        "for i, x in enumerate(dtm2words(dtm, vocabulary, [0, 1, 2, 3, 4, 5, 6, 7, 8, 9, 10])):\n",
        "    print('Org: ', df.text[i])\n",
        "    print('Mod: ', ' '.join(x))\n",
        "    print('')"
      ],
      "execution_count": 14,
      "outputs": [
        {
          "output_type": "stream",
          "text": [
            "Org:  Go until jurong point, crazy.. Available only in bugis n great world la e buffet... Cine there got amore wat...\n",
            "Mod:  avail bugi cine got great la onli point wat world\n",
            "\n",
            "Org:  Ok lar... Joking wif u oni...\n",
            "Mod:  joke lar ok wif\n",
            "\n",
            "Org:  Free entry in 2 a wkly comp to win FA Cup final tkts 21st May 2005. Text FA to 87121 to receive entry question(std txt rate)T&C's apply 08452810075over18's\n",
            "Mod:  appli comp cup entri final free question rate receiv std text txt win wkli\n",
            "\n",
            "Org:  U dun say so early hor... U c already then say...\n",
            "Mod:  alreadi dun earli say\n",
            "\n",
            "Org:  Nah I don't think he goes to usf, he lives around here though\n",
            "Mod:  don goe live nah think usf\n",
            "\n",
            "Org:  FreeMsg Hey there darling it's been 3 week's now and no word back! I'd like some fun you up for it still? Tb ok! XxX std chgs to send, Â£1.50 to rcv\n",
            "Mod:  50 darl freemsg fun hey like ok send std week word xxx\n",
            "\n",
            "Org:  Even my brother is not like to speak with me. They treat me like aids patent.\n",
            "Mod:  brother like speak treat\n",
            "\n",
            "Org:  As per your request 'Melle Melle (Oru Minnaminunginte Nurungu Vettam)' has been set as your callertune for all Callers. Press *9 to copy your friends Callertune\n",
            "Mod:  callers callertun copi friend ha press request set\n",
            "\n",
            "Org:  WINNER!! As a valued network customer you have been selected to receivea Â£900 prize reward! To claim call 09061701461. Claim code KL341. Valid 12 hours only.\n",
            "Mod:  12 900 claim code custom hour network prize reward select valid valu winner\n",
            "\n",
            "Org:  Had your mobile 11 months or more? U R entitled to Update to the latest colour mobiles with camera for Free! Call The Mobile Update Co FREE on 08002986030\n",
            "Mod:  11 camera colour entitl free latest mobil month updat\n",
            "\n",
            "Org:  I'm gonna be home soon and i don't want to talk about this stuff anymore tonight, k? I've cried enough today.\n",
            "Mod:  don gonna home soon stuff talk thi today tonight want\n",
            "\n"
          ],
          "name": "stdout"
        }
      ]
    },
    {
      "cell_type": "markdown",
      "metadata": {
        "id": "wEMceeUY-Tht",
        "colab_type": "text"
      },
      "source": [
        "#Se separan los datos de entrenamiento y prueba"
      ]
    },
    {
      "cell_type": "code",
      "metadata": {
        "id": "gICR1UaX-bpp",
        "colab_type": "code",
        "colab": {}
      },
      "source": [
        "##\n",
        "## Creación de los conjuntos de entrenamiento y prueba.\n",
        "##\n",
        "X_train      = dtm[0:4168,]\n",
        "X_test       = dtm[4169:,]\n",
        "y_train_true = df.type[0:4168]\n",
        "y_test_true  = df.type[4169:]\n"
      ],
      "execution_count": 0,
      "outputs": []
    },
    {
      "cell_type": "markdown",
      "metadata": {
        "id": "fQz1Jvdo9KNh",
        "colab_type": "text"
      },
      "source": [
        "#Regresión logística"
      ]
    },
    {
      "cell_type": "code",
      "metadata": {
        "id": "GytA0xt49Mq4",
        "colab_type": "code",
        "colab": {}
      },
      "source": [
        "logisticRegression = LogisticRegression(\n",
        "    penalty='l2',            # ‘l1’, ‘l2’, ‘elasticnet’, ‘none’\n",
        "    tol=0.0001,              # stop criteria\n",
        "    C=1.0,                   # factor inverso para regularizacion (SVM)\n",
        "    fit_intercept=True,      #\n",
        "    class_weight=None,       # None, dict or ‘balanced’\n",
        "    random_state=None,       #\n",
        "    solver='lbfgs',          # 'newton-cg’, ‘lbfgs’, ‘liblinear’, ‘sag’, ‘saga’\n",
        "    max_iter=100,            #\n",
        "    multi_class='auto',      # ‘ovr’, ‘multinomial’, ‘auto’\n",
        "    verbose=0,               #\n",
        "    warm_start=False,        # ?re-usa la solución previa\n",
        "    l1_ratio=None            # Elastic-Net mixing parameter, with 0 <= l1_ratio <= 1\n",
        ")"
      ],
      "execution_count": 0,
      "outputs": []
    },
    {
      "cell_type": "markdown",
      "metadata": {
        "id": "rFhQ7n1L_n7X",
        "colab_type": "text"
      },
      "source": [
        "##Se realiza el entrenamiento y la evaluación"
      ]
    },
    {
      "cell_type": "code",
      "metadata": {
        "id": "Wl7-B3Od_sEi",
        "colab_type": "code",
        "colab": {}
      },
      "source": [
        "lr = logisticRegression.fit(X_train, y_train_true)\n",
        "y_pred = logisticRegression.predict(X_test)"
      ],
      "execution_count": 0,
      "outputs": []
    },
    {
      "cell_type": "markdown",
      "metadata": {
        "id": "7p_PAPveAcdu",
        "colab_type": "text"
      },
      "source": [
        "##Se valida la matriz de confusión"
      ]
    },
    {
      "cell_type": "code",
      "metadata": {
        "id": "jIyK70hWAgZ1",
        "colab_type": "code",
        "colab": {
          "base_uri": "https://localhost:8080/",
          "height": 279
        },
        "outputId": "e9d3b17a-1335-455b-b749-26e27c288221"
      },
      "source": [
        "confusion_matrix(y_test_true, y_pred)\n",
        "plot_confusion_matrix(lr,X_test,y_test_true,normalize='true');"
      ],
      "execution_count": 33,
      "outputs": [
        {
          "output_type": "display_data",
          "data": {
            "image/png": "[encoded data removed]",
            "text/plain": [
              "<Figure size 432x288 with 2 Axes>"
            ]
          },
          "metadata": {
            "tags": []
          }
        }
      ]
    },
    {
      "cell_type": "markdown",
      "metadata": {
        "id": "DRlUraXmB8ig",
        "colab_type": "text"
      },
      "source": [
        "El módelo de regresión logística detecta correos ham con una alta probabilidad pero en spam no se obtienen los mismos resultados"
      ]
    },
    {
      "cell_type": "markdown",
      "metadata": {
        "id": "PQA9ZsbCDt37",
        "colab_type": "text"
      },
      "source": [
        "##Robustez del modelo"
      ]
    },
    {
      "cell_type": "code",
      "metadata": {
        "id": "eNsaxMF2Dwye",
        "colab_type": "code",
        "colab": {
          "base_uri": "https://localhost:8080/",
          "height": 34
        },
        "outputId": "694dcb32-7997-4a3d-c0c4-96ac09d6d1bf"
      },
      "source": [
        "res = cross_val_score(lr, X_test, y_test_true)\n",
        "print(\"Promedio: \",res.mean())"
      ],
      "execution_count": 43,
      "outputs": [
        {
          "output_type": "stream",
          "text": [
            "Promedio:  0.9637010676156583\n"
          ],
          "name": "stdout"
        }
      ]
    },
    {
      "cell_type": "markdown",
      "metadata": {
        "id": "2-YQQzbnFuP_",
        "colab_type": "text"
      },
      "source": [
        "#Red Neuronal\n",
        "\n",
        "Primero se busca el número de neuronas adecuado"
      ]
    },
    {
      "cell_type": "code",
      "metadata": {
        "id": "1Ojy4BmGFzFI",
        "colab_type": "code",
        "colab": {}
      },
      "source": [
        "n_neuronas = [2,3,4,5,6,7,8,9,10]\n",
        "\n",
        "neuronas = []\n",
        "promedio = []\n",
        "\n",
        "#Iteramos sobre el numero de neuronas\n",
        "for numeroNeuronas in n_neuronas:\n",
        "  \n",
        "  rn = MLPClassifier(hidden_layer_sizes=(numeroNeuronas,),activation = 'relu',learning_rate = 'adaptive',momentum = 0.9,solver= 'sgd',learning_rate_init = 0.01,max_iter = 1000,random_state=0)\n",
        "\n",
        "  rn.fit(X_train,y_train_true)\n",
        "  res = cross_val_score(rn, X_test, y_test_true, cv=10,scoring='accuracy')\n",
        "  media=resultadosValidacion.mean()\n",
        "  neuronas.append(numeroNeuronas)\n",
        "  promedio.append(media)"
      ],
      "execution_count": 0,
      "outputs": []
    },
    {
      "cell_type": "code",
      "metadata": {
        "id": "-kjTW3qiaSWK",
        "colab_type": "code",
        "colab": {
          "base_uri": "https://localhost:8080/",
          "height": 34
        },
        "outputId": "c0ef745a-9b9a-4f0e-c6a4-6550db433065"
      },
      "source": [
        "print(\"Neuronas a utilizar: \", promedio.index(max(promedio))+2)"
      ],
      "execution_count": 88,
      "outputs": [
        {
          "output_type": "stream",
          "text": [
            "Neuronas a utilizar:  2\n"
          ],
          "name": "stdout"
        }
      ]
    },
    {
      "cell_type": "markdown",
      "metadata": {
        "id": "AmLPGa86cjnZ",
        "colab_type": "text"
      },
      "source": [
        "Modelo con el número de neuronas adecuado"
      ]
    },
    {
      "cell_type": "code",
      "metadata": {
        "id": "TLziPZcqcq2M",
        "colab_type": "code",
        "colab": {
          "base_uri": "https://localhost:8080/",
          "height": 153
        },
        "outputId": "460be3e0-2b9b-419f-eab0-09b566e30ab3"
      },
      "source": [
        "rno = MLPClassifier(hidden_layer_sizes=2,activation = 'relu',learning_rate = 'adaptive',momentum = 0.9,solver= 'sgd',learning_rate_init = 0.01,max_iter = 1000,random_state=0)\n",
        "rno.fit(X_train,y_train_true)"
      ],
      "execution_count": 90,
      "outputs": [
        {
          "output_type": "execute_result",
          "data": {
            "text/plain": [
              "MLPClassifier(activation='relu', alpha=0.0001, batch_size='auto', beta_1=0.9,\n",
              "              beta_2=0.999, early_stopping=False, epsilon=1e-08,\n",
              "              hidden_layer_sizes=2, learning_rate='adaptive',\n",
              "              learning_rate_init=0.01, max_fun=15000, max_iter=1000,\n",
              "              momentum=0.9, n_iter_no_change=10, nesterovs_momentum=True,\n",
              "              power_t=0.5, random_state=0, shuffle=True, solver='sgd',\n",
              "              tol=0.0001, validation_fraction=0.1, verbose=False,\n",
              "              warm_start=False)"
            ]
          },
          "metadata": {
            "tags": []
          },
          "execution_count": 90
        }
      ]
    },
    {
      "cell_type": "code",
      "metadata": {
        "id": "q4puzcuqdc6A",
        "colab_type": "code",
        "colab": {
          "base_uri": "https://localhost:8080/",
          "height": 279
        },
        "outputId": "44a99f55-b12a-4643-c324-335f2b3c6761"
      },
      "source": [
        "confusion_matrix(y_test_true, y_pred)\n",
        "plot_confusion_matrix(rno,X_test,y_test_true,normalize='true');"
      ],
      "execution_count": 91,
      "outputs": [
        {
          "output_type": "display_data",
          "data": {
            "image/png": "[encoded data removed]",
            "text/plain": [
              "<Figure size 432x288 with 2 Axes>"
            ]
          },
          "metadata": {
            "tags": []
          }
        }
      ]
    },
    {
      "cell_type": "markdown",
      "metadata": {
        "id": "8yYrfK1Qe16D",
        "colab_type": "text"
      },
      "source": [
        ""
      ]
    },
    {
      "cell_type": "markdown",
      "metadata": {
        "id": "w_I3mlRaed8O",
        "colab_type": "text"
      },
      "source": [
        ""
      ]
    },
    {
      "cell_type": "code",
      "metadata": {
        "id": "SisgohDldmt6",
        "colab_type": "code",
        "colab": {
          "base_uri": "https://localhost:8080/",
          "height": 34
        },
        "outputId": "940f7f2e-a441-4cb9-fdd9-fd20171be3de"
      },
      "source": [
        "res = cross_val_score(rno, X_test, y_test_true)\n",
        "print(\"Promedio: \",res.mean())"
      ],
      "execution_count": 92,
      "outputs": [
        {
          "output_type": "stream",
          "text": [
            "Promedio:  0.9743772241992883\n"
          ],
          "name": "stdout"
        }
      ]
    },
    {
      "cell_type": "markdown",
      "metadata": {
        "id": "eQa_Nk_Qd33X",
        "colab_type": "text"
      },
      "source": [
        "#Resultado\n",
        "Se concluye que la red neuronal predice más spam que la regresión logística por lo que se prefiere aunque no es mucha la diferencia. "
      ]
    }
  ]
}